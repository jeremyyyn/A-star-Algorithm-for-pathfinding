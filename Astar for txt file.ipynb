{
 "cells": [
  {
   "cell_type": "code",
   "execution_count": 1,
   "id": "beb5d3c0",
   "metadata": {},
   "outputs": [
    {
     "name": "stdout",
     "output_type": "stream",
     "text": [
      "pygame 2.1.0 (SDL 2.0.16, Python 3.10.9)\n",
      "Hello from the pygame community. https://www.pygame.org/contribute.html\n"
     ]
    }
   ],
   "source": [
    "import pygame \n",
    "from queue import PriorityQueue \n",
    "from tkinter import * \n",
    "#importing libraries \n",
    "from PIL import Image "
   ]
  },
  {
   "cell_type": "code",
   "execution_count": 2,
   "id": "f23562da",
   "metadata": {},
   "outputs": [],
   "source": [
    "width = 1000 \n",
    "WIN = pygame.display.set_mode((width, width)) \n",
    "pygame.display.set_caption(\"A* Path Finding Astar\") "
   ]
  },
  {
   "cell_type": "code",
   "execution_count": 4,
   "id": "73d8c75f",
   "metadata": {},
   "outputs": [],
   "source": [
    "E3CF57 = (227, 207, 87) \n",
    "FF7256 = (255, 114, 86) \n",
    "F0F8FF = (240, 248, 255) \n",
    "BCEE68 = (188, 238, 104) \n",
    "F0FFF0 = (240, 255, 240) \n",
    "BLACK = (8, 8, 8) \n",
    "AB82FF = (171, 130, 255) \n",
    "FF8000 = (255, 128, 0) \n",
    "B7B7B7 = (183, 183, 183) \n",
    "AAAAAA = (170, 170, 170) "
   ]
  },
  {
   "cell_type": "code",
   "execution_count": 6,
   "id": "867f5b93",
   "metadata": {},
   "outputs": [],
   "source": [
    "class Node:\n",
    "    def __init__(self, row, col, width, totalRows): \n",
    "         self.row = row \n",
    "         self.col = col \n",
    "         self.x = row * width \n",
    "         self.y = col * width \n",
    "         self.color = BLACK \n",
    "         self.neighbors = [] \n",
    "         self.width = width \n",
    "         self.totalRows = totalRows\n",
    "    \n",
    " "
   ]
  },
  {
   "cell_type": "code",
   "execution_count": 7,
   "id": "0303005b",
   "metadata": {},
   "outputs": [],
   "source": [
    "def get_pos(self): \n",
    "    return self.row, self.col \n"
   ]
  },
  {
   "cell_type": "code",
   "execution_count": 8,
   "id": "9980e89e",
   "metadata": {},
   "outputs": [],
   "source": [
    "def blocked(self): \n",
    "    return self.color == E3CF57 \n"
   ]
  },
  {
   "cell_type": "code",
   "execution_count": 9,
   "id": "cf920d47",
   "metadata": {},
   "outputs": [],
   "source": [
    "def available(self): \n",
    "    return self.color == FF7256 \n",
    "def defopen(self): \n",
    "    self.color = FF7256 "
   ]
  },
  {
   "cell_type": "code",
   "execution_count": 10,
   "id": "86f67dab",
   "metadata": {},
   "outputs": [],
   "source": [
    "def walls(self): \n",
    "    return self.color == F0FFF0 \n",
    "def defwall(self): \n",
    "    self.color = F0FFF0 \n",
    "def defclosed(self): #making Node \n",
    "    self.color = E3CF57 \n"
   ]
  },
  {
   "cell_type": "code",
   "execution_count": 11,
   "id": "0ce51948",
   "metadata": {},
   "outputs": [],
   "source": [
    "def point1(self): \n",
    "    return self.color == FF8000 \n",
    "def defpoint1(self): \n",
    "    self.color = FF8000"
   ]
  },
  {
   "cell_type": "code",
   "execution_count": 12,
   "id": "c54d32cf",
   "metadata": {},
   "outputs": [],
   "source": [
    "def endpoint1(self): \n",
    "    return self.color == AAAAAA \n",
    "def defendpoint1(self): \n",
    "    self.color = AAAAAA \n"
   ]
  },
  {
   "cell_type": "code",
   "execution_count": 13,
   "id": "2c13a8f8",
   "metadata": {},
   "outputs": [],
   "source": [
    "def reset(self): \n",
    "    self.color = F0FFF0\n",
    "def returnpath(self): \n",
    "    self.color = AB82FF \n",
    "def draw(self, win): \n",
    "    pygame.draw.rect(win, self.color, (self.x, self.y, self.width, \n",
    "self.width)) "
   ]
  },
  {
   "cell_type": "code",
   "execution_count": 14,
   "id": "d96cb6e6",
   "metadata": {},
   "outputs": [],
   "source": [
    "def update_neighbors(self, grid): \n",
    "    self.neighbors = [] \n",
    "    if self.row > 0 and not grid[self.row - 1][self.col].walls(): \n",
    "        self.neighbors.append(grid[self.row - 1][self.col]) \n",
    "    if self.col < self.totalRows - 1 and not grid[self.row][self.col + \n",
    "1].walls(): self.neighbors.append(grid[self.row][self.col + 1]) \n",
    "    if self.row < self.totalRows - 1 and not grid[self.row + \n",
    "1][self.col].walls(): \n",
    "        self.neighbors.append(grid[self.row + 1][self.col]) \n",
    "    if self.col > 0 and not grid[self.row][self.col - 1].walls(): \n",
    "        self.neighbors.append(grid[self.row][self.col - 1]) \n",
    "def __lt__(self, other): \n",
    "    return False\n"
   ]
  },
  {
   "cell_type": "code",
   "execution_count": 15,
   "id": "6f4e53fa",
   "metadata": {},
   "outputs": [],
   "source": [
    "def h(p1, p2): \n",
    "    x1, y1 = p1 \n",
    "    x2, y2 = p2 \n",
    "    return abs(x1 - x2) + abs(y1 - y2) "
   ]
  },
  {
   "cell_type": "code",
   "execution_count": 16,
   "id": "327f9a79",
   "metadata": {},
   "outputs": [],
   "source": [
    "def makePath(came_from, current, draw): \n",
    "    while current in came_from: \n",
    "        current = came_from[current] \n",
    "        current.returnpath() \n",
    "        draw() "
   ]
  },
  {
   "cell_type": "code",
   "execution_count": 17,
   "id": "da2c5df9",
   "metadata": {},
   "outputs": [],
   "source": [
    "def Astar(draw, grid, start, end): \n",
    "     count = 0 \n",
    "     open_set = PriorityQueue() \n",
    "     open_set.put((0, count, start)) \n",
    "     came_from = {} \n",
    "     g_score = {Node: float(\"inf\") for row in grid for Node in row} \n",
    "     g_score[start] = 0 \n",
    "     f_score = {Node: float(\"inf\") for row in grid for Node in row} \n",
    "     f_score[start] = h(start.get_pos(), end.get_pos()) \n",
    "     open_set_hash = {start} \n",
    "     while not open_set.empty(): \n",
    "         for event in pygame.event.get(): \n",
    "             if event.type == pygame.QUIT: \n",
    "                 pygame.quit() \n",
    "         current = open_set.get()[2] \n",
    "         open_set_hash.remove(current) \n",
    "         if current == end: \n",
    "             makePath(came_from, end, draw) \n",
    "             end.defendpoint1() \n",
    "             return True \n",
    "         for neighbor in current.neighbors: \n",
    "             temp_g_score = g_score[current] + 1 \n",
    "         if temp_g_score < g_score[neighbor]: \n",
    "             came_from[neighbor] = current \n",
    "             g_score[neighbor] = temp_g_score \n",
    "             f_score[neighbor] = temp_g_score + h(neighbor.get_pos(), end.get_pos())\n",
    "            \n",
    "             if neighbor not in open_set_hash: \n",
    "                 count += 1 \n",
    "                 open_set.put((f_score[neighbor], count, neighbor)) \n",
    "                 open_set_hash.add(neighbor) \n",
    "                 neighbor.defopen() \n",
    "         draw() \n",
    "         if current != start: \n",
    "             current.defclosed() "
   ]
  },
  {
   "cell_type": "code",
   "execution_count": 18,
   "id": "9dbb2aaf",
   "metadata": {},
   "outputs": [],
   "source": [
    "def make_grid(rows, width): \n",
    "     grid = [] \n",
    "     gap = width // rows \n",
    "     for i in range(rows): \n",
    "         grid.append([]) \n",
    "         for j in range(rows): \n",
    "             node = Node(i, j, gap, rows) \n",
    "             grid[i].append(node) \n",
    "     return grid \n"
   ]
  },
  {
   "cell_type": "code",
   "execution_count": 19,
   "id": "fa66274b",
   "metadata": {},
   "outputs": [],
   "source": [
    "def drawGrid(win, rows, width): \n",
    "     gap = width // rows \n",
    "     for i in range(rows): \n",
    "         pygame.draw.line(win, B7B7B7, (0, i * gap), (width, i * gap)) \n",
    "         for j in range(rows): \n",
    "             pygame.draw.line(win, B7B7B7, (j * gap, 0), (j * gap, width)) "
   ]
  },
  {
   "cell_type": "code",
   "execution_count": 21,
   "id": "5eb0fb24",
   "metadata": {},
   "outputs": [],
   "source": [
    "def draw(win, grid, rows, width): \n",
    "     win.fill(F0FFF0) #frame \n",
    "     for row in grid: \n",
    "         for Node in row: \n",
    "             Node.draw(win) \n",
    "     drawGrid(win, rows, width) \n",
    "     pygame.display.update() "
   ]
  },
  {
   "cell_type": "code",
   "execution_count": 22,
   "id": "b31ae59a",
   "metadata": {},
   "outputs": [],
   "source": [
    "def clicked(pos, rows, width): \n",
    "     gap = width // rows \n",
    "     y, x = pos \n",
    "\n",
    "     row = y // gap \n",
    "     col = x // gap \n",
    "     return row, col "
   ]
  },
  {
   "cell_type": "code",
   "execution_count": 32,
   "id": "a5f4f803",
   "metadata": {},
   "outputs": [],
   "source": [
    "def Manual(win, width): \n",
    "     ROWS = 70 #main \n",
    "     grid = make_grid(ROWS, width) \n",
    "     start = None \n",
    "     end = None \n",
    "     run = True \n",
    "     while run: \n",
    "         draw(win, grid, ROWS, width) \n",
    "         for event in pygame.event.get(): \n",
    "             if event.type == pygame.QUIT: \n",
    "                 run = False \n",
    "             if pygame.mouse.get_pressed()[0]: \n",
    "                 pos = pygame.mouse.get_pos() \n",
    "                 row, col = clicked(pos, ROWS, width) \n",
    "                 Node = grid[row][col] \n",
    "                 if not start and Node != end: \n",
    "                     start = Node \n",
    "                     start.defpoint1() \n",
    "                 elif not end and Node != start: \n",
    "                     end = Node \n",
    "                     end.defendpoint1() \n",
    "                 elif Node != end and Node != start: \n",
    "                     Node.defwall() \n",
    "                 elif pygame.mouse.get_pressed()[2]: \n",
    "                     pos = pygame.mouse.get_pos() \n",
    "                     row, col = clicked(pos, ROWS, width) \n",
    "                     Node = grid[row][col] \n",
    "                     Node.reset() \n",
    "                     if Node == start: \n",
    "                        start = None \n",
    "                     elif Node == end: \n",
    "                         end = None \n",
    "                 if event.type == pygame.KEYDOWN: \n",
    "                     if event.key == pygame.K_SPACE and start and end: \n",
    "                         for row in grid: \n",
    "                             for Node in row: \n",
    "                                 Node.update_neighbors(grid) \n",
    "                         Astar(lambda: draw(win, grid, ROWS, width), grid,start, end)\n",
    "                         \n",
    "                     if event.key == pygame.K_c: \n",
    "                         start = None \n",
    "                         end = None \n",
    "                         grid = make_grid(ROWS, width) \n",
    "     pygame.quit()"
   ]
  },
  {
   "cell_type": "code",
   "execution_count": 35,
   "id": "47936241",
   "metadata": {},
   "outputs": [
    {
     "name": "stderr",
     "output_type": "stream",
     "text": [
      "Exception in Tkinter callback\n",
      "Traceback (most recent call last):\n",
      "  File \"C:\\Users\\jerem\\anaconda3\\lib\\tkinter\\__init__.py\", line 1921, in __call__\n",
      "    return self.func(*args)\n",
      "  File \"C:\\Users\\jerem\\AppData\\Local\\Temp\\ipykernel_54548\\3917218227.py\", line 21, in clickFileplay\n",
      "    im = Image.open(r\"C:\\Users\\jerem\\OneDrive\\Pictures\\DATA1.PNG\")\n",
      "  File \"C:\\Users\\jerem\\anaconda3\\lib\\site-packages\\PIL\\Image.py\", line 3227, in open\n",
      "    fp = builtins.open(filename, \"rb\")\n",
      "FileNotFoundError: [Errno 2] No such file or directory: 'C:\\\\Users\\\\jerem\\\\OneDrive\\\\Pictures\\\\DATA1.PNG'\n",
      "Exception in Tkinter callback\n",
      "Traceback (most recent call last):\n",
      "  File \"C:\\Users\\jerem\\anaconda3\\lib\\tkinter\\__init__.py\", line 1921, in __call__\n",
      "    return self.func(*args)\n",
      "  File \"C:\\Users\\jerem\\AppData\\Local\\Temp\\ipykernel_54548\\3917218227.py\", line 27, in clickManualplay\n",
      "    Manual(WIN, width)\n",
      "  File \"C:\\Users\\jerem\\AppData\\Local\\Temp\\ipykernel_54548\\1026286500.py\", line 8, in Manual\n",
      "    draw(win, grid, ROWS, width)\n",
      "  File \"C:\\Users\\jerem\\AppData\\Local\\Temp\\ipykernel_54548\\2280832559.py\", line 5, in draw\n",
      "    Node.draw(win)\n",
      "AttributeError: 'Node' object has no attribute 'draw'\n"
     ]
    }
   ],
   "source": [
    "class Window(Frame): \n",
    "    def __init__(self, master=None): \n",
    "         Frame.__init__(self, master) \n",
    "         self.master = master \n",
    "         self.pack(fill=BOTH, expand=1) \n",
    "         exitButton = Button(self, text=\"Exit\",command=self.clickExitButton) \n",
    "        \n",
    "         Fileplay = Button(self, text=\"A* search on DATA1\", \n",
    "        command=self.clickFileplay) \n",
    "         Fileplay1 = Button(self, text=\"A* search on ROUND1\", \n",
    "        command=self.clickFileplay1) \n",
    "         Manualplay = Button(self, text=\"A* search on draw\", \n",
    "        command=self.clickManualplay) \n",
    "         exitButton.place(x=280, y=160) \n",
    "         Fileplay.place(x=0, y=0) \n",
    "         Fileplay1.place(x=0,y=30) \n",
    "         Manualplay.place(x=0, y=160) \n",
    "    def clickExitButton(self): \n",
    "        exit() \n",
    "    def clickFileplay(self):\n",
    "         im = Image.open(r\"C:\\Users\\jerem\\OneDrive\\Pictures\\DATA1.PNG\") \n",
    "         im.show() \n",
    "    def clickFileplay1(self): \n",
    "         im = Image.open(r\"C:\\Users\\jerem\\OneDrive\\Pictures\\Round1.PNG\") \n",
    "         im.show() \n",
    "    def clickManualplay(self): \n",
    "         Manual(WIN, width) \n",
    "root = Tk() \n",
    "app = Window(root) \n",
    "root.wm_title(\"A* seaching Astar\") \n",
    "root.geometry(\"320x200\") \n",
    "root.mainloop()         "
   ]
  },
  {
   "cell_type": "code",
   "execution_count": null,
   "id": "bcaf3f3c",
   "metadata": {},
   "outputs": [],
   "source": []
  }
 ],
 "metadata": {
  "kernelspec": {
   "display_name": "Python 3 (ipykernel)",
   "language": "python",
   "name": "python3"
  },
  "language_info": {
   "codemirror_mode": {
    "name": "ipython",
    "version": 3
   },
   "file_extension": ".py",
   "mimetype": "text/x-python",
   "name": "python",
   "nbconvert_exporter": "python",
   "pygments_lexer": "ipython3",
   "version": "3.10.9"
  }
 },
 "nbformat": 4,
 "nbformat_minor": 5
}
